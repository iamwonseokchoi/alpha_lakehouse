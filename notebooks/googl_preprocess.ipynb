{
 "cells": [
  {
   "cell_type": "code",
   "execution_count": 1,
   "metadata": {},
   "outputs": [],
   "source": [
    "import pyspark.sql.functions as F\n",
    "from pyspark.sql.types import *\n",
    "from delta import *\n",
    "from create_spark import CreateSparkSession"
   ]
  },
  {
   "cell_type": "code",
   "execution_count": null,
   "metadata": {},
   "outputs": [],
   "source": [
    "spark_obj = CreateSparkSession()\n",
    "spark = spark_obj.session"
   ]
  },
  {
   "cell_type": "code",
   "execution_count": 7,
   "metadata": {},
   "outputs": [
    {
     "name": "stderr",
     "output_type": "stream",
     "text": [
      "23/09/24 05:08:53 WARN package: Truncated the string representation of a plan since it was too large. This behavior can be adjusted by setting 'spark.sql.debug.maxToStringFields'.\n",
      "                                                                                \r"
     ]
    },
    {
     "data": {
      "text/plain": [
       "DataFrame[path: string, metrics: struct<numFilesAdded:bigint,numFilesRemoved:bigint,filesAdded:struct<min:bigint,max:bigint,avg:double,totalFiles:bigint,totalSize:bigint>,filesRemoved:struct<min:bigint,max:bigint,avg:double,totalFiles:bigint,totalSize:bigint>,partitionsOptimized:bigint,zOrderStats:struct<strategyName:string,inputCubeFiles:struct<num:bigint,size:bigint>,inputOtherFiles:struct<num:bigint,size:bigint>,inputNumCubes:bigint,mergedFiles:struct<num:bigint,size:bigint>,numOutputCubes:bigint,mergedNumCubes:bigint>,numBatches:bigint,totalConsideredFiles:bigint,totalFilesSkipped:bigint,preserveInsertionOrder:boolean,numFilesSkippedToReduceWriteAmplification:bigint,numBytesSkippedToReduceWriteAmplification:bigint,startTimeMs:bigint,endTimeMs:bigint,totalClusterParallelism:bigint,totalScheduledTasks:bigint,autoCompactParallelismStats:struct<maxClusterActiveParallelism:bigint,minClusterActiveParallelism:bigint,maxSessionActiveParallelism:bigint,minSessionActiveParallelism:bigint>,deletionVectorStats:struct<numDeletionVectorsRemoved:bigint,numDeletionVectorRowsRemoved:bigint>,numTableColumns:bigint,numTableColumnsWithStats:bigint>]"
      ]
     },
     "execution_count": 7,
     "metadata": {},
     "output_type": "execute_result"
    }
   ],
   "source": [
    "spark.sql(\"optimize 's3://wonseokchoi-data-lake-project/lake/cassandra_replication/price/all_stocks/'\")"
   ]
  },
  {
   "cell_type": "code",
   "execution_count": 8,
   "metadata": {},
   "outputs": [
    {
     "name": "stdout",
     "output_type": "stream",
     "text": [
      "root\n",
      " |-- time_bucket: long (nullable = true)\n",
      " |-- symbol: string (nullable = true)\n",
      " |-- timestamp: long (nullable = true)\n",
      " |-- close: double (nullable = true)\n",
      " |-- high: double (nullable = true)\n",
      " |-- low: double (nullable = true)\n",
      " |-- open: double (nullable = true)\n",
      " |-- transactions: long (nullable = true)\n",
      " |-- updated_at: timestamp (nullable = true)\n",
      " |-- volume: long (nullable = true)\n",
      " |-- volume_weighted: long (nullable = true)\n",
      "\n"
     ]
    }
   ],
   "source": [
    "df = spark.read \\\n",
    "    .format(\"delta\") \\\n",
    "    .load(\"s3://wonseokchoi-data-lake-project/lake/cassandra_replication/price/all_stocks/\")\n",
    "df.printSchema()"
   ]
  },
  {
   "cell_type": "code",
   "execution_count": 9,
   "metadata": {},
   "outputs": [
    {
     "name": "stdout",
     "output_type": "stream",
     "text": [
      "root\n",
      " |-- symbol: string (nullable = true)\n",
      " |-- timestamp: string (nullable = true)\n",
      " |-- close: double (nullable = true)\n",
      " |-- high: double (nullable = true)\n",
      " |-- low: double (nullable = true)\n",
      " |-- open: double (nullable = true)\n",
      " |-- transactions: long (nullable = true)\n",
      " |-- volume: long (nullable = true)\n",
      " |-- volume_weighted: long (nullable = true)\n",
      "\n"
     ]
    },
    {
     "name": "stderr",
     "output_type": "stream",
     "text": [
      "[Stage 11:==================================================>       (7 + 1) / 8]\r"
     ]
    },
    {
     "name": "stdout",
     "output_type": "stream",
     "text": [
      "+------+-------------------+-------+-------+-------+-------+------------+------+---------------+\n",
      "|symbol|          timestamp|  close|   high|    low|   open|transactions|volume|volume_weighted|\n",
      "+------+-------------------+-------+-------+-------+-------+------------+------+---------------+\n",
      "| GOOGL|2018-09-06 20:00:00|   60.0|   60.0|   60.0|   60.0|           7|  4620|             60|\n",
      "| GOOGL|2018-09-06 20:53:00|  60.01|  60.01|  60.01|  60.01|           1|  6000|             60|\n",
      "| GOOGL|2018-09-06 20:54:00| 60.015| 60.015|  60.01|  60.01|           8|  9940|             60|\n",
      "| GOOGL|2018-09-06 21:00:00|59.9995|59.9995|59.9995|59.9995|          11|  4980|             60|\n",
      "| GOOGL|2018-09-06 21:03:00| 59.969| 59.969| 59.969| 59.969|           4|  6760|             59|\n",
      "| GOOGL|2018-09-06 21:15:00|60.0575|60.0575|60.0575|60.0575|           1|  2000|             60|\n",
      "| GOOGL|2018-09-06 21:22:00|60.0575|60.0575| 60.052|60.0575|          16| 14140|             60|\n",
      "| GOOGL|2018-09-06 21:31:00|60.0755|60.0755|60.0395|60.0395|          20| 22300|             60|\n",
      "| GOOGL|2018-09-06 21:50:00| 59.957| 60.013| 59.957| 60.013|          45| 25100|             59|\n",
      "| GOOGL|2018-09-06 22:07:00| 59.975| 59.975| 59.975| 59.975|           7|  5360|             59|\n",
      "+------+-------------------+-------+-------+-------+-------+------------+------+---------------+\n",
      "only showing top 10 rows\n",
      "\n"
     ]
    },
    {
     "name": "stderr",
     "output_type": "stream",
     "text": [
      "                                                                                \r"
     ]
    }
   ],
   "source": [
    "df1 = df.withColumn(\"timestamp\", F.date_format(F.from_unixtime(F.col(\"timestamp\")/1000), \"yyyy-MM-dd HH:mm:ss\"))\n",
    "df_cleaned = df1.drop(\"updated_at\", \"time_bucket\")\n",
    "df_googl = df_cleaned.filter(F.col(\"symbol\") == \"GOOGL\").orderBy(F.col(\"timestamp\").asc())\n",
    "df_googl.printSchema()\n",
    "df_googl.show(10)"
   ]
  },
  {
   "cell_type": "code",
   "execution_count": 13,
   "metadata": {},
   "outputs": [
    {
     "name": "stderr",
     "output_type": "stream",
     "text": [
      "                                                                                \r"
     ]
    },
    {
     "data": {
      "text/plain": [
       "<delta.tables.DeltaOptimizeBuilder at 0x13297e2c0>"
      ]
     },
     "execution_count": 13,
     "metadata": {},
     "output_type": "execute_result"
    }
   ],
   "source": [
    "from delta.tables import DeltaTable\n",
    "\n",
    "df_googl.coalesce(1).write.format(\"delta\").mode(\"overwrite\").save(\"s3://wonseokchoi-data-lake-project/lake/cleaned/price_cleaned/GOOGL/\")\n",
    "\n",
    "deltaTable = DeltaTable.forPath(spark, \"s3://wonseokchoi-data-lake-project/lake/cleaned/price_cleaned/GOOGL/\")\n",
    "deltaTable.optimize()"
   ]
  },
  {
   "cell_type": "code",
   "execution_count": 10,
   "metadata": {},
   "outputs": [
    {
     "name": "stderr",
     "output_type": "stream",
     "text": [
      "                                                                                \r"
     ]
    },
    {
     "data": {
      "text/html": [
       "<div>\n",
       "<style scoped>\n",
       "    .dataframe tbody tr th:only-of-type {\n",
       "        vertical-align: middle;\n",
       "    }\n",
       "\n",
       "    .dataframe tbody tr th {\n",
       "        vertical-align: top;\n",
       "    }\n",
       "\n",
       "    .dataframe thead th {\n",
       "        text-align: right;\n",
       "    }\n",
       "</style>\n",
       "<table border=\"1\" class=\"dataframe\">\n",
       "  <thead>\n",
       "    <tr style=\"text-align: right;\">\n",
       "      <th></th>\n",
       "      <th>symbol</th>\n",
       "      <th>timestamp</th>\n",
       "      <th>close</th>\n",
       "      <th>high</th>\n",
       "      <th>low</th>\n",
       "      <th>open</th>\n",
       "      <th>transactions</th>\n",
       "      <th>volume</th>\n",
       "      <th>volume_weighted</th>\n",
       "    </tr>\n",
       "  </thead>\n",
       "  <tbody>\n",
       "    <tr>\n",
       "      <th>0</th>\n",
       "      <td>GOOGL</td>\n",
       "      <td>2018-09-06 20:00:00</td>\n",
       "      <td>60.0000</td>\n",
       "      <td>60.0000</td>\n",
       "      <td>60.0000</td>\n",
       "      <td>60.0000</td>\n",
       "      <td>7.0</td>\n",
       "      <td>4620.0</td>\n",
       "      <td>60.0</td>\n",
       "    </tr>\n",
       "    <tr>\n",
       "      <th>1</th>\n",
       "      <td>GOOGL</td>\n",
       "      <td>2018-09-06 20:53:00</td>\n",
       "      <td>60.0100</td>\n",
       "      <td>60.0100</td>\n",
       "      <td>60.0100</td>\n",
       "      <td>60.0100</td>\n",
       "      <td>1.0</td>\n",
       "      <td>6000.0</td>\n",
       "      <td>60.0</td>\n",
       "    </tr>\n",
       "    <tr>\n",
       "      <th>2</th>\n",
       "      <td>GOOGL</td>\n",
       "      <td>2018-09-06 20:54:00</td>\n",
       "      <td>60.0150</td>\n",
       "      <td>60.0150</td>\n",
       "      <td>60.0100</td>\n",
       "      <td>60.0100</td>\n",
       "      <td>8.0</td>\n",
       "      <td>9940.0</td>\n",
       "      <td>60.0</td>\n",
       "    </tr>\n",
       "    <tr>\n",
       "      <th>3</th>\n",
       "      <td>GOOGL</td>\n",
       "      <td>2018-09-06 21:00:00</td>\n",
       "      <td>59.9995</td>\n",
       "      <td>59.9995</td>\n",
       "      <td>59.9995</td>\n",
       "      <td>59.9995</td>\n",
       "      <td>11.0</td>\n",
       "      <td>4980.0</td>\n",
       "      <td>60.0</td>\n",
       "    </tr>\n",
       "    <tr>\n",
       "      <th>4</th>\n",
       "      <td>GOOGL</td>\n",
       "      <td>2018-09-06 21:03:00</td>\n",
       "      <td>59.9690</td>\n",
       "      <td>59.9690</td>\n",
       "      <td>59.9690</td>\n",
       "      <td>59.9690</td>\n",
       "      <td>4.0</td>\n",
       "      <td>6760.0</td>\n",
       "      <td>59.0</td>\n",
       "    </tr>\n",
       "  </tbody>\n",
       "</table>\n",
       "</div>"
      ],
      "text/plain": [
       "  symbol            timestamp    close     high      low     open  \\\n",
       "0  GOOGL  2018-09-06 20:00:00  60.0000  60.0000  60.0000  60.0000   \n",
       "1  GOOGL  2018-09-06 20:53:00  60.0100  60.0100  60.0100  60.0100   \n",
       "2  GOOGL  2018-09-06 20:54:00  60.0150  60.0150  60.0100  60.0100   \n",
       "3  GOOGL  2018-09-06 21:00:00  59.9995  59.9995  59.9995  59.9995   \n",
       "4  GOOGL  2018-09-06 21:03:00  59.9690  59.9690  59.9690  59.9690   \n",
       "\n",
       "   transactions  volume  volume_weighted  \n",
       "0           7.0  4620.0             60.0  \n",
       "1           1.0  6000.0             60.0  \n",
       "2           8.0  9940.0             60.0  \n",
       "3          11.0  4980.0             60.0  \n",
       "4           4.0  6760.0             59.0  "
      ]
     },
     "execution_count": 10,
     "metadata": {},
     "output_type": "execute_result"
    }
   ],
   "source": [
    "DF = df_googl.toPandas()\n",
    "DF.head(10)\n",
    "# DF.to_csv(\"../data/csv/googl.csv\", index=False)"
   ]
  }
 ],
 "metadata": {
  "kernelspec": {
   "display_name": "alpha",
   "language": "python",
   "name": "python3"
  },
  "language_info": {
   "codemirror_mode": {
    "name": "ipython",
    "version": 3
   },
   "file_extension": ".py",
   "mimetype": "text/x-python",
   "name": "python",
   "nbconvert_exporter": "python",
   "pygments_lexer": "ipython3",
   "version": "3.10.12"
  },
  "orig_nbformat": 4
 },
 "nbformat": 4,
 "nbformat_minor": 2
}
