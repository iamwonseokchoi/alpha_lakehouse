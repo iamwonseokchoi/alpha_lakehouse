{
 "cells": [
  {
   "cell_type": "code",
   "execution_count": 1,
   "metadata": {},
   "outputs": [],
   "source": [
    "from pyspark.sql import SparkSession\n",
    "import pyspark.sql.functions as F\n",
    "from pyspark.sql.types import *\n",
    "from delta import *\n",
    "import pyspark\n",
    "import os"
   ]
  },
  {
   "cell_type": "code",
   "execution_count": 2,
   "metadata": {},
   "outputs": [],
   "source": [
    "os.environ[\"JAVA_HOME\"] = \"/Users/wonseokchoi/Documents/Installs/jdk-11.0.19.jdk/Contents/Home\"\n",
    "os.environ[\"PATH\"] = f'{os.environ[\"JAVA_HOME\"]}/bin:{os.environ[\"PATH\"]}'\n",
    "\n",
    "os.environ[\"SPARK_HOME\"] = \"/Users/wonseokchoi/Documents/Installs/spark-3.4.1-bin-hadoop3\"\n",
    "os.environ[\"PATH\"] = f'{os.environ[\"PATH\"]}:{os.environ[\"SPARK_HOME\"]}/bin'\n",
    "# PYTHONPATH=$(ZIPS=(\"$SPARK_HOME\"/python/lib/*.zip); IFS=:; echo \"${ZIPS[*]}\"):$PYTHONPATH\n",
    "spark_home = os.environ.get('SPARK_HOME')\n",
    "if spark_home:\n",
    "    zips = \":\".join(os.path.join(spark_home, \"python/lib\", f) for f in os.listdir(os.path.join(spark_home, \"python/lib\")) if f.endswith('.zip'))\n",
    "    python_path = os.environ.get(\"PYTHONPATH\", \"\")\n",
    "    new_python_path = f\"{zips}:{python_path}\"\n",
    "    os.environ[\"PYTHONPATH\"] = new_python_path\n",
    "else:\n",
    "    print(\"SPARK_HOME is not set in the environment.\")\n",
    "\n",
    "os.environ[\"HADOOP_HOME\"] = \"/Users/wonseokchoi/Documents/Installs/hadoop-3.3.6\"\n",
    "os.environ[\"PATH\"] = f'{os.environ[\"PATH\"]}:{os.environ[\"HADOOP_HOME\"]}/bin'\n",
    "os.environ[\"HADOOP_CONF_DIR\"] = f'{os.environ[\"HADOOP_HOME\"]}/etc/hadoop'\n",
    "os.environ[\"YARN_CONF_DIR\"] = f'{os.environ[\"HADOOP_HOME\"]}/etc/hadoop'\n",
    "os.environ[\"HADOOP_CLASSPATH\"] = f'{os.environ[\"HADOOP_HOME\"]}/share/hadoop/tools/lib/*'\n",
    "\n",
    "os.environ[\"PYSPARK_SUBMIT_ARGS\"] = \"--master local[*] pyspark-shell\""
   ]
  },
  {
   "cell_type": "code",
   "execution_count": 3,
   "metadata": {},
   "outputs": [
    {
     "name": "stderr",
     "output_type": "stream",
     "text": [
      "23/09/07 22:13:20 WARN Utils: Your hostname, Wonseoks-MacBook-Air.local resolves to a loopback address: 127.0.0.1; using 192.168.35.2 instead (on interface en0)\n",
      "23/09/07 22:13:20 WARN Utils: Set SPARK_LOCAL_IP if you need to bind to another address\n",
      "Ivy Default Cache set to: /Users/wonseokchoi/.ivy2/cache\n",
      "The jars for the packages stored in: /Users/wonseokchoi/.ivy2/jars\n",
      "io.delta#delta-core_2.12 added as a dependency\n",
      ":: resolving dependencies :: org.apache.spark#spark-submit-parent-06a50fad-e73d-4495-b3a3-b98e19fed463;1.0\n",
      "\tconfs: [default]\n",
      "\tfound io.delta#delta-core_2.12;2.4.0 in central\n"
     ]
    },
    {
     "name": "stdout",
     "output_type": "stream",
     "text": [
      ":: loading settings :: url = jar:file:/Users/wonseokchoi/Documents/Installs/spark-3.4.1-bin-hadoop3/jars/ivy-2.5.1.jar!/org/apache/ivy/core/settings/ivysettings.xml\n"
     ]
    },
    {
     "name": "stderr",
     "output_type": "stream",
     "text": [
      "\tfound io.delta#delta-storage;2.4.0 in central\n",
      "\tfound org.antlr#antlr4-runtime;4.9.3 in central\n",
      ":: resolution report :: resolve 84ms :: artifacts dl 4ms\n",
      "\t:: modules in use:\n",
      "\tio.delta#delta-core_2.12;2.4.0 from central in [default]\n",
      "\tio.delta#delta-storage;2.4.0 from central in [default]\n",
      "\torg.antlr#antlr4-runtime;4.9.3 from central in [default]\n",
      "\t---------------------------------------------------------------------\n",
      "\t|                  |            modules            ||   artifacts   |\n",
      "\t|       conf       | number| search|dwnlded|evicted|| number|dwnlded|\n",
      "\t---------------------------------------------------------------------\n",
      "\t|      default     |   3   |   0   |   0   |   0   ||   3   |   0   |\n",
      "\t---------------------------------------------------------------------\n",
      ":: retrieving :: org.apache.spark#spark-submit-parent-06a50fad-e73d-4495-b3a3-b98e19fed463\n",
      "\tconfs: [default]\n",
      "\t0 artifacts copied, 3 already retrieved (0kB/3ms)\n",
      "23/09/07 22:13:21 WARN NativeCodeLoader: Unable to load native-hadoop library for your platform... using builtin-java classes where applicable\n",
      "Setting default log level to \"WARN\".\n",
      "To adjust logging level use sc.setLogLevel(newLevel). For SparkR, use setLogLevel(newLevel).\n"
     ]
    }
   ],
   "source": [
    "builder = pyspark.sql.SparkSession.builder.appName(\"AllStocks\") \\\n",
    "    .config(\"spark.sql.extensions\", \"io.delta.sql.DeltaSparkSessionExtension\") \\\n",
    "    .config(\"spark.sql.catalog.spark_catalog\", \"org.apache.spark.sql.delta.catalog.DeltaCatalog\")\n",
    "\n",
    "spark = configure_spark_with_delta_pip(builder).getOrCreate()"
   ]
  },
  {
   "cell_type": "code",
   "execution_count": 4,
   "metadata": {},
   "outputs": [
    {
     "name": "stdout",
     "output_type": "stream",
     "text": [
      "root\n",
      " |-- symbol: string (nullable = true)\n",
      " |-- timestamp: string (nullable = true)\n",
      " |-- close: double (nullable = true)\n",
      " |-- high: double (nullable = true)\n",
      " |-- low: double (nullable = true)\n",
      " |-- open: double (nullable = true)\n",
      " |-- transactions: long (nullable = true)\n",
      " |-- volume: long (nullable = true)\n",
      " |-- volume_weighted: long (nullable = true)\n",
      "\n"
     ]
    },
    {
     "name": "stderr",
     "output_type": "stream",
     "text": [
      "23/09/07 22:13:35 WARN package: Truncated the string representation of a plan since it was too large. This behavior can be adjusted by setting 'spark.sql.debug.maxToStringFields'.\n",
      "[Stage 4:>                                                          (0 + 8) / 9]\r"
     ]
    },
    {
     "name": "stdout",
     "output_type": "stream",
     "text": [
      "+------+-------------------+-------+-------+-------+-------+------------+------+---------------+\n",
      "|symbol|          timestamp|  close|   high|    low|   open|transactions|volume|volume_weighted|\n",
      "+------+-------------------+-------+-------+-------+-------+------------+------+---------------+\n",
      "| GOOGL|2018-09-06 20:00:00|   60.0|   60.0|   60.0|   60.0|           7|  4620|             60|\n",
      "| GOOGL|2018-09-06 20:53:00|  60.01|  60.01|  60.01|  60.01|           1|  6000|             60|\n",
      "| GOOGL|2018-09-06 20:54:00| 60.015| 60.015|  60.01|  60.01|           8|  9940|             60|\n",
      "| GOOGL|2018-09-06 21:00:00|59.9995|59.9995|59.9995|59.9995|          11|  4980|             60|\n",
      "| GOOGL|2018-09-06 21:03:00| 59.969| 59.969| 59.969| 59.969|           4|  6760|             59|\n",
      "| GOOGL|2018-09-06 21:15:00|60.0575|60.0575|60.0575|60.0575|           1|  2000|             60|\n",
      "| GOOGL|2018-09-06 21:22:00|60.0575|60.0575| 60.052|60.0575|          16| 14140|             60|\n",
      "| GOOGL|2018-09-06 21:31:00|60.0755|60.0755|60.0395|60.0395|          20| 22300|             60|\n",
      "| GOOGL|2018-09-06 21:50:00| 59.957| 60.013| 59.957| 60.013|          45| 25100|             59|\n",
      "| GOOGL|2018-09-06 22:07:00| 59.975| 59.975| 59.975| 59.975|           7|  5360|             59|\n",
      "+------+-------------------+-------+-------+-------+-------+------------+------+---------------+\n",
      "only showing top 10 rows\n",
      "\n"
     ]
    },
    {
     "name": "stderr",
     "output_type": "stream",
     "text": [
      "                                                                                \r"
     ]
    }
   ],
   "source": [
    "df = spark.read \\\n",
    "    .format(\"delta\") \\\n",
    "    .load(\"../data/lake_replica/all_stocks/\")\n",
    "df1 = df.withColumn(\"timestamp\", F.date_format(F.from_unixtime(F.col(\"timestamp\")/1000), \"yyyy-MM-dd HH:mm:ss\"))\n",
    "df_cleaned = df1.drop(\"updated_at\", \"time_bucket\")\n",
    "df_googl = df_cleaned.filter(F.col(\"symbol\") == \"GOOGL\").orderBy(F.col(\"timestamp\").asc())\n",
    "df_googl.printSchema()\n",
    "df_googl.show(10)"
   ]
  },
  {
   "cell_type": "code",
   "execution_count": 5,
   "metadata": {},
   "outputs": [
    {
     "name": "stderr",
     "output_type": "stream",
     "text": [
      "                                                                                \r"
     ]
    },
    {
     "data": {
      "text/html": [
       "<div>\n",
       "<style scoped>\n",
       "    .dataframe tbody tr th:only-of-type {\n",
       "        vertical-align: middle;\n",
       "    }\n",
       "\n",
       "    .dataframe tbody tr th {\n",
       "        vertical-align: top;\n",
       "    }\n",
       "\n",
       "    .dataframe thead th {\n",
       "        text-align: right;\n",
       "    }\n",
       "</style>\n",
       "<table border=\"1\" class=\"dataframe\">\n",
       "  <thead>\n",
       "    <tr style=\"text-align: right;\">\n",
       "      <th></th>\n",
       "      <th>symbol</th>\n",
       "      <th>timestamp</th>\n",
       "      <th>close</th>\n",
       "      <th>high</th>\n",
       "      <th>low</th>\n",
       "      <th>open</th>\n",
       "      <th>transactions</th>\n",
       "      <th>volume</th>\n",
       "      <th>volume_weighted</th>\n",
       "    </tr>\n",
       "  </thead>\n",
       "  <tbody>\n",
       "    <tr>\n",
       "      <th>0</th>\n",
       "      <td>GOOGL</td>\n",
       "      <td>2018-09-06 20:00:00</td>\n",
       "      <td>60.0000</td>\n",
       "      <td>60.0000</td>\n",
       "      <td>60.0000</td>\n",
       "      <td>60.0000</td>\n",
       "      <td>7.0</td>\n",
       "      <td>4620.0</td>\n",
       "      <td>60.0</td>\n",
       "    </tr>\n",
       "    <tr>\n",
       "      <th>1</th>\n",
       "      <td>GOOGL</td>\n",
       "      <td>2018-09-06 20:53:00</td>\n",
       "      <td>60.0100</td>\n",
       "      <td>60.0100</td>\n",
       "      <td>60.0100</td>\n",
       "      <td>60.0100</td>\n",
       "      <td>1.0</td>\n",
       "      <td>6000.0</td>\n",
       "      <td>60.0</td>\n",
       "    </tr>\n",
       "    <tr>\n",
       "      <th>2</th>\n",
       "      <td>GOOGL</td>\n",
       "      <td>2018-09-06 20:54:00</td>\n",
       "      <td>60.0150</td>\n",
       "      <td>60.0150</td>\n",
       "      <td>60.0100</td>\n",
       "      <td>60.0100</td>\n",
       "      <td>8.0</td>\n",
       "      <td>9940.0</td>\n",
       "      <td>60.0</td>\n",
       "    </tr>\n",
       "    <tr>\n",
       "      <th>3</th>\n",
       "      <td>GOOGL</td>\n",
       "      <td>2018-09-06 21:00:00</td>\n",
       "      <td>59.9995</td>\n",
       "      <td>59.9995</td>\n",
       "      <td>59.9995</td>\n",
       "      <td>59.9995</td>\n",
       "      <td>11.0</td>\n",
       "      <td>4980.0</td>\n",
       "      <td>60.0</td>\n",
       "    </tr>\n",
       "    <tr>\n",
       "      <th>4</th>\n",
       "      <td>GOOGL</td>\n",
       "      <td>2018-09-06 21:03:00</td>\n",
       "      <td>59.9690</td>\n",
       "      <td>59.9690</td>\n",
       "      <td>59.9690</td>\n",
       "      <td>59.9690</td>\n",
       "      <td>4.0</td>\n",
       "      <td>6760.0</td>\n",
       "      <td>59.0</td>\n",
       "    </tr>\n",
       "  </tbody>\n",
       "</table>\n",
       "</div>"
      ],
      "text/plain": [
       "  symbol            timestamp    close     high      low     open  \\\n",
       "0  GOOGL  2018-09-06 20:00:00  60.0000  60.0000  60.0000  60.0000   \n",
       "1  GOOGL  2018-09-06 20:53:00  60.0100  60.0100  60.0100  60.0100   \n",
       "2  GOOGL  2018-09-06 20:54:00  60.0150  60.0150  60.0100  60.0100   \n",
       "3  GOOGL  2018-09-06 21:00:00  59.9995  59.9995  59.9995  59.9995   \n",
       "4  GOOGL  2018-09-06 21:03:00  59.9690  59.9690  59.9690  59.9690   \n",
       "\n",
       "   transactions  volume  volume_weighted  \n",
       "0           7.0  4620.0             60.0  \n",
       "1           1.0  6000.0             60.0  \n",
       "2           8.0  9940.0             60.0  \n",
       "3          11.0  4980.0             60.0  \n",
       "4           4.0  6760.0             59.0  "
      ]
     },
     "execution_count": 5,
     "metadata": {},
     "output_type": "execute_result"
    }
   ],
   "source": [
    "DF = df_googl.toPandas()\n",
    "DF.head()"
   ]
  },
  {
   "cell_type": "code",
   "execution_count": 7,
   "metadata": {},
   "outputs": [],
   "source": [
    "DF.to_csv(\"../data/csv/googl.csv\", index=False)"
   ]
  }
 ],
 "metadata": {
  "kernelspec": {
   "display_name": "alpha",
   "language": "python",
   "name": "python3"
  },
  "language_info": {
   "codemirror_mode": {
    "name": "ipython",
    "version": 3
   },
   "file_extension": ".py",
   "mimetype": "text/x-python",
   "name": "python",
   "nbconvert_exporter": "python",
   "pygments_lexer": "ipython3",
   "version": "3.10.12"
  },
  "orig_nbformat": 4
 },
 "nbformat": 4,
 "nbformat_minor": 2
}
